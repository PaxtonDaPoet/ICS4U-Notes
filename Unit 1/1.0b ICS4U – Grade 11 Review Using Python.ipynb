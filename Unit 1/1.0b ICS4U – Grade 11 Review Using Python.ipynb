{
 "cells": [
  {
   "cell_type": "markdown",
   "metadata": {},
   "source": [
    "# ICS4U – Grade 11 Review Using Python\n",
    "\n",
    "## ICS4U Learning Goals\n",
    "In this ICS4U lesson you will be reviewing the following programming concepts from grade 11:\n",
    "\n",
    "- Sequencing, Control, Repetition, Lists, Modularity"
   ]
  },
  {
   "cell_type": "markdown",
   "metadata": {},
   "source": [
    "# Prerequisite Concepts\n",
    "Since **ICS3U is a prerequisite** for this course, **there is an expectation that you already understand the concepts listed below** and can solve problems using those concepts.\n",
    "\n",
    "- Displaying Output to the Screen\n",
    "\n",
    "- Getting information from the keyboard and storing it in variables\n",
    "\n",
    "- Using variables and math formulas to solve problems\n",
    "\n",
    "- Writing code to make decisions with the use of if / else statements\n",
    "\n",
    "- Writing code that repeats itself using loops\n",
    "\n",
    "- Storing data in arrays (lists)\n",
    "\n",
    "- Writing functions (methods) to solve simple tasks\n",
    "\n",
    "Now, you might not have programmed in Python last year, but you should know how to solve coding problems and write programs using those concepts. If you understand those concepts well, then it should not be too much of a challenge to learn how to do it with Python. Below is a list of practice questions that you SHOULD be able to complete based on what you learned last year. The challenge will be that you need to code them in Python.\n",
    "\n",
    "If your grade 11 teacher did not cover those concepts, you will have to put some extra effort into learning them quickly\n",
    "\n",
    "I am going to provide you with links to my Grade 11 Material that I use in ICS3U for all of these concepts as a reference so you can learn the language. Remember that the resources below are meant to teach programming concepts as well as syntax. You are NOT required to complete ANY of the activities inside them. They are for REFERENCE ONLY. Use as much or as little as YOU need to in order to get familiar with Python\n",
    "\n",
    "- ICS3U Lesson – Screen Output\n",
    "\n",
    "- ICS3U Lesson – Variables and Input\n",
    "\n",
    "- ICS3U Lesson – Mathematical Calculations\n",
    "\n",
    "- ICS3U Lesson – Selection Structures\n",
    "\n",
    "- ICS3U Lesson Repetition Structures\n",
    "\n",
    "- ICS3U Lesson – Lists and Strings\n",
    "\n",
    "- ICS3U Lesson – Modular Programming"
   ]
  },
  {
   "cell_type": "markdown",
   "metadata": {},
   "source": [
    "# ICS4U Coding Questions\n",
    "Try to code the following questions using an IDE of your choice.  You will save those files on your computer for future reference. \n",
    "\n",
    "Each question has:\n",
    "\n",
    "- A video of your teacher live coding and explaining the solution\n",
    "\n",
    "- The final code used in the video.\n",
    "\n",
    "Try your best to solve the problems yourself without looking at the solutions.\n",
    "\n",
    "Make sure you test your programs with multiple different inputs to ensure it is functioning properly.\n",
    "\n",
    "Treat these questions like Math homework (Do as many as you feel you need to do to feel comfortable with the material)\n",
    "\n",
    "Do some self reflection while completing these practice questions and assess if you have strong enough background skills to succeed in this course.  Are you willing to put in the extra time / effort to improve those skills to an adequate level?"
   ]
  },
  {
   "cell_type": "markdown",
   "metadata": {},
   "source": [
    "# ICS4U Practice Question\n",
    "\n",
    "Name Your File:  `ICS4UquadraticFormula.py`\n",
    "\n",
    "Write a program that solves a quadratic equation in standard form using the quadratic formula. Check if the equation has zero, one, or two solutions first, using the discriminant, and then output any solutions (if there are any)."
   ]
  },
  {
   "cell_type": "code",
   "execution_count": 8,
   "metadata": {},
   "outputs": [
    {
     "name": "stdout",
     "output_type": "stream",
     "text": [
      "Enter the coefficients for the quadratic equation ax^2 + bx + c = 0:\n"
     ]
    }
   ],
   "source": [
    "import math\n",
    "#Ask for a,b,c in standard form \n",
    "a = float(input(\"Enter coefficients a: \"))\n",
    "b = float(input(\"Enter coefficients b: \"))\n",
    "c = float(input(\"Enter coefficients c: \"))\n",
    "\n",
    "def solve_quadratic(a, b, c):\n",
    "    discriminant = b**2 - 4*a*c\n",
    "    if discriminant > 0:\n",
    "        # Two real solutions\n",
    "        root1 = (-b + math.sqrt(discriminant)) / (2 * a)\n",
    "        root2 = (-b - math.sqrt(discriminant)) / (2 * a)\n",
    "        return (\"Two real solution: \", root1,root2)\n",
    "    elif discriminant == 0:\n",
    "        #One real solution\n",
    "        root = -b / (2*a)\n",
    "        return (\"One real solution: \", root)\n",
    "    else: \n",
    "        return (\"No real solution: \")\n",
    "# Display the result \n",
    "print(\"Enter the coefficients for the quadratic equation ax^2 + bx + c = 0:\")\n"
   ]
  },
  {
   "cell_type": "markdown",
   "metadata": {},
   "source": [
    "# ICS4U Practice Question\n",
    "Name Your File:  `ICS4Uattendance.py` \n",
    "\n",
    "A student is not allowed to write a University exam if their attendance is less than 75%. Write a program that accepts the number of classes held, the number of classes attended and print out the attendance % and if they are allowed to write the exam or not"
   ]
  },
  {
   "cell_type": "code",
   "execution_count": 9,
   "metadata": {},
   "outputs": [
    {
     "name": "stdout",
     "output_type": "stream",
     "text": [
      "Attendance Percentage:  191.66666666666669\n",
      "You are allowed to write the exam.\n"
     ]
    }
   ],
   "source": [
    "def check_exam_eligibility(classes_held, classes_attended):\n",
    "    # Calculate the attendance percentage\n",
    "    attendance_percentage = (classes_attended / classes_held) * 100\n",
    "    \n",
    "    # Print the attendance percentage\n",
    "    print(\"Attendance Percentage: \", attendance_percentage)\n",
    "    \n",
    "    # Check if the student is eligible to write the exam\n",
    "    if attendance_percentage >= 75:\n",
    "        return \"You are allowed to write the exam.\"\n",
    "    else:\n",
    "        return \"You are not allowed to write the exam.\"\n",
    "\n",
    "# Input the number of classes held and classes attended\n",
    "classes_held = int(input(\"Enter the number of classes held: \"))\n",
    "classes_attended = int(input(\"Enter the number of classes attended: \"))\n",
    "\n",
    "# Check if the student is eligible for the exam\n",
    "result = check_exam_eligibility(classes_held, classes_attended)\n",
    "print(result)\n"
   ]
  },
  {
   "cell_type": "markdown",
   "metadata": {},
   "source": [
    "# ICS4U Practice Question\n",
    "\n",
    "Name Your File:  `ICS4Usequence.py`\n",
    "\n",
    "Let the user input a positive integer.\n",
    "\n",
    "- If the number is even divide it by 2.\n",
    "\n",
    "- If the number is odd multiply it by 3 and add 1.\n",
    "\n",
    "Take the new number you generated and repeat the process. If you repeat this process enough times then eventually the number you generate will always equal to 1. Write a program outputs the sequence of numbers until it gets to 1"
   ]
  },
  {
   "cell_type": "code",
   "execution_count": 10,
   "metadata": {},
   "outputs": [
    {
     "name": "stdout",
     "output_type": "stream",
     "text": [
      "2 1\n"
     ]
    }
   ],
   "source": [
    "def generate_sequence(number):\n",
    "    # Generate and print the sequence until we reach 1\n",
    "    while number != 1:\n",
    "        print(number, end=\" \")\n",
    "        if number % 2 == 0:\n",
    "            number //= 2\n",
    "        else:\n",
    "            number = number * 3 + 1\n",
    "    print(number)  \n",
    "\n",
    "# Take input from the user\n",
    "num = int(input(\"Enter a positive integer: \"))\n",
    "\n",
    "# Ensure the input is a positive integer\n",
    "if num > 0:\n",
    "    generate_sequence(num)\n",
    "else:\n",
    "    print(\"Please enter a positive integer.\")\n"
   ]
  },
  {
   "cell_type": "markdown",
   "metadata": {},
   "source": [
    "# ICS4U Practice Question\n",
    "\n",
    "Name Your File:  `ICS4UperfectNumbers.py`\n",
    "\n",
    "Create a function that determines if a number is a perfect number and then find the first 500 perfect numbers starting at 1. \n",
    "\n",
    "- A number if perfect if all of its factors (excluding the number itself) add up to the number. \n",
    "\n",
    "- 6 is perfect because it has factors 1,2,3,6 and 1 + 2 + 3 = 6"
   ]
  },
  {
   "cell_type": "code",
   "execution_count": 11,
   "metadata": {},
   "outputs": [
    {
     "name": "stdout",
     "output_type": "stream",
     "text": [
      "[1, 6, 28, 496, 8128]\n"
     ]
    }
   ],
   "source": [
    "import math\n",
    "\n",
    "def is_perfect_number(n):\n",
    "\n",
    "    divisors_sum = 1  \n",
    "    for i in range(2, int(math.sqrt(n)) + 1):\n",
    "        if n % i == 0:\n",
    "            divisors_sum += i\n",
    "            if i != n // i: # Avoid adding the square root twice if n is a perfect square\n",
    "                divisors_sum += n // i\n",
    "    return divisors_sum == n\n",
    "\n",
    "def find_perfect_numbers():\n",
    "    perfect_numbers = []\n",
    "    for i in range(1, 100000):\n",
    "        if is_perfect_number (i):\n",
    "            perfect_numbers.append(i)\n",
    "    return perfect_numbers\n",
    "\n",
    "perfect_numbers = find_perfect_numbers()\n",
    "\n",
    "print(perfect_numbers)\n"
   ]
  },
  {
   "cell_type": "markdown",
   "metadata": {},
   "source": [
    "# ICS4U Practice Question\n",
    "\n",
    "Name Your File:  `ICS4UexponentsFunction.py`\n",
    "\n",
    "Create a function that does power functions a^b without using the built in exponents functions in python"
   ]
  },
  {
   "cell_type": "code",
   "execution_count": 12,
   "metadata": {},
   "outputs": [
    {
     "name": "stdout",
     "output_type": "stream",
     "text": [
      "8\n",
      "1\n",
      "0.125\n",
      "81\n"
     ]
    }
   ],
   "source": [
    "def power(a, b):\n",
    "    # Handle the case for b == 0, where any number to the power of 0 is 1\n",
    "    if b == 0:\n",
    "        return 1\n",
    "    \n",
    "    # Handle negative exponents\n",
    "    if b < 0:\n",
    "        a = 1 / a  # Take the recip rocal for negative exponents\n",
    "        b = -b  # Convert to positive exponent for the calculation\n",
    "    \n",
    "    result = 1\n",
    "    # Multiply 'a' by itself 'b' times\n",
    "    for _ in range(b):\n",
    "        result *= a\n",
    "    \n",
    "    return result\n",
    "\n",
    "# Test cases\n",
    "print(power(2, 3))  # 2^3 = 8\n",
    "print(power(5, 0))  # 5^0 = 1\n",
    "print(power(2, -3))  # 2^-3 = 1/8 = 0.125\n",
    "print(power(3, 4))  # 3^4 = 81\n"
   ]
  },
  {
   "cell_type": "markdown",
   "metadata": {},
   "source": [
    "# ICS4U Practice Question\n",
    "\n",
    "Name Your File:  `ICS4Upalindrome.py`\n",
    "\n",
    "Write a program that checks if a single word entered from the user is a palindrome.  Don’t use the built in “String Reverse” function python has."
   ]
  },
  {
   "cell_type": "code",
   "execution_count": 13,
   "metadata": {},
   "outputs": [
    {
     "name": "stdout",
     "output_type": "stream",
     "text": [
      "is a palindrome. w\n"
     ]
    }
   ],
   "source": [
    "def is_palindrome(word):\n",
    "    # Loop through the word, comparing characters from start and end\n",
    "    length = len(word)\n",
    "    for i in range(length // 2):  # Only need to check up to the middle\n",
    "        if word[i] != word[length - 1 - i]:\n",
    "            return False  # If characters don't match, it's not a palindrome\n",
    "    return True  # If we didn't find any mismatches, it's a palindrome\n",
    "\n",
    "# Input from user\n",
    "word = input(\"Enter a word: \")\n",
    "\n",
    "# Check if the word is a palindrome and print the result\n",
    "if is_palindrome(word):\n",
    "    print(\"is a palindrome.\", word)\n",
    "else:\n",
    "    print(\"is not a palindrome.\", word)\n",
    "\n",
    "        \n",
    "    "
   ]
  },
  {
   "cell_type": "markdown",
   "metadata": {},
   "source": [
    "# ICS4U Practice Question\n",
    "\n",
    "Name Your File:  `ICS4UcountingList.py` \n",
    "\n",
    "Write a program that displays a random list of 75 numbers between 15 and 50 to the user.  Once that list is displayed, ask them for a target to search for.  Display how many of the target values are in the list"
   ]
  },
  {
   "cell_type": "code",
   "execution_count": 14,
   "metadata": {},
   "outputs": [
    {
     "name": "stdout",
     "output_type": "stream",
     "text": [
      "Random list of 75 numbers:  [47, 32, 44, 42, 49, 30, 41, 34, 22, 45, 47, 19, 37, 48, 48, 50, 42, 22, 31, 25, 46, 29, 30, 38, 32, 20, 48, 46, 49, 30, 37, 28, 49, 17, 33, 22, 38, 16, 35, 34, 26, 35, 23, 40, 33, 35, 48, 17, 38, 22, 32, 48, 35, 47, 38, 37, 18, 25, 26, 19, 35, 38, 35, 45, 17, 40, 36, 24, 28, 47, 19, 49, 49, 45, 27]\n",
      "The number target appear in the list:  1 0\n"
     ]
    }
   ],
   "source": [
    "import random\n",
    "\n",
    "# Function to generate a list of random numbers between 15 and 75   1\n",
    "def generate_random_numbers(size, min_value, max_value):\n",
    "    return [random.randint(min_value, max_value) for _ in range(size)]\n",
    "# Generate a list of 75 random number betweeen 15 and 50 \n",
    "random_list = generate_random_numbers(75, 15, 50)\n",
    "# Display the random list of 75r numbers \n",
    "print(\"Random list of 75 numbers: \", random_list)\n",
    "# Ask the user for a target number to search for \n",
    "target = int(input(\"Enter a target number to search: \"))\n",
    "# Count how many times the target number appears in the list\n",
    "count = random_list.count(target)\n",
    "# Display the result \n",
    "print(\"The number target appear in the list: \", target, count)\n",
    "\n",
    "\n"
   ]
  },
  {
   "cell_type": "markdown",
   "metadata": {},
   "source": [
    "# ICS4U Practice Question\n",
    "\n",
    "Name Your File:  `ICS4UalternatingList.py`\n",
    "\n",
    "Write a program that generates a random list of numbers between 0 and 100.  The size of the list is random between 4 and 20 and must an even number.  Output a new list in alternating reverse order\n",
    "\n",
    "Ex.  If the list is [1,2,3,4,5,6] then output [1,6,2,5,3,4]"
   ]
  },
  {
   "cell_type": "code",
   "execution_count": 15,
   "metadata": {},
   "outputs": [
    {
     "name": "stdout",
     "output_type": "stream",
     "text": [
      "Original List: [35, 18, 43, 95, 72, 68, 44, 14, 75, 55, 35, 22]\n",
      "Alternating Reverse List: [35, 22, 18, 35, 43, 55, 95, 75, 72, 14, 68, 44]\n"
     ]
    }
   ],
   "source": [
    "import random\n",
    "\n",
    "def generate_random_list():\n",
    "    # Random list size between 4 and 20 (must be even)\n",
    "    size = random.randint(2, 10) * 2  # Multiply by 2 to ensure it's even\n",
    "    # Generate random numbers between 0 and 100\n",
    "    return [random.randint(0, 100) for _ in range(size)]\n",
    "\n",
    "def create_alternating_reverse_list(original_list):\n",
    "    new_list = []\n",
    "    left = 0\n",
    "    right = len(original_list) - 1\n",
    "    \n",
    "    # Alternating reverse order\n",
    "    while left <= right:\n",
    "        new_list.append(original_list[left])\n",
    "        if left != right:  # To avoid adding the middle element twice when the list size is odd\n",
    "            new_list.append(original_list[right])\n",
    "        left += 1\n",
    "        right -= 1\n",
    "    \n",
    "    return new_list\n",
    "\n",
    "# Generate random list\n",
    "random_list = generate_random_list()\n",
    "\n",
    "# Create the alternating reverse list\n",
    "alternating_reverse_list = create_alternating_reverse_list(random_list)\n",
    "\n",
    "# Output the original and the new list\n",
    "print(\"Original List:\", random_list)\n",
    "print(\"Alternating Reverse List:\", alternating_reverse_list)\n"
   ]
  },
  {
   "cell_type": "markdown",
   "metadata": {},
   "source": [
    "# ICS4U Practice Question\n",
    "\n",
    "Name Your File:  `ICS4UkprNumbers.py`\n",
    "\n",
    "The KPR value of a number N is the smallest number that is divisible by all the integers between 1 and N. For example the KPR of 5 is 60 because 60 is the smallest number that is divisible by 1, 2, 3, 4, and 5. Display all the KPR values of the numbers from 1 to 20. Try to get your program to finish in less than 30 seconds\n",
    "\n",
    "Here are some other KPR Values\n",
    "\n",
    "- KPR(13) = 360360\n",
    "\n",
    "- KPR(17) = 12252240\n",
    "\n",
    "- KPR(19) = 23792560"
   ]
  },
  {
   "cell_type": "code",
   "execution_count": 16,
   "metadata": {},
   "outputs": [
    {
     "name": "stdout",
     "output_type": "stream",
     "text": [
      "KPR 1\n",
      "KPR 2\n",
      "KPR 3\n",
      "KPR 4\n",
      "KPR 5\n",
      "KPR 6\n",
      "KPR 7\n",
      "KPR 8\n",
      "KPR 9\n",
      "KPR 10\n",
      "KPR 11\n",
      "KPR 12\n",
      "KPR 13\n",
      "KPR 14\n",
      "KPR 15\n",
      "KPR 16\n",
      "KPR 17\n",
      "KPR 18\n",
      "KPR 19\n",
      "KPR 20\n"
     ]
    }
   ],
   "source": [
    "import math\n",
    "# Function to calculate the LCM of two numbers\n",
    "def lcm(a, b):\n",
    "    return abs(a * b) // math.gcd(a, b)\n",
    "# Function to calculate the KPR (LCM of all numbers from 1 to N)\n",
    "def kpr(n):\n",
    "    result = 1\n",
    "    for i in range(1, n + 1):\n",
    "        result = lcm(result, i)\n",
    "    return result\n",
    "# Display the KPR values for numbers from 1 to 20\n",
    "for i in range(1, 21):\n",
    "    print(\"KPR\", i)"
   ]
  }
 ],
 "metadata": {
  "kernelspec": {
   "display_name": "Python 3",
   "language": "python",
   "name": "python3"
  },
  "language_info": {
   "codemirror_mode": {
    "name": "ipython",
    "version": 3
   },
   "file_extension": ".py",
   "mimetype": "text/x-python",
   "name": "python",
   "nbconvert_exporter": "python",
   "pygments_lexer": "ipython3",
   "version": "3.13.0"
  }
 },
 "nbformat": 4,
 "nbformat_minor": 2
}
