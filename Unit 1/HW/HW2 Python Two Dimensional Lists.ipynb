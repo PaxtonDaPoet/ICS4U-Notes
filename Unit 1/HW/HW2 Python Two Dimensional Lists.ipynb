{
 "cells": [
  {
   "cell_type": "markdown",
   "metadata": {},
   "source": [
    "# ICS4U Homework 2 : Python Two Dimensional Lists\n",
    "\n",
    "- 1.2 HW 1, 2, 3, 4, 5\n",
    "\n",
    "## ICS4U Coding Questions\n",
    "Try to code the following questions using an IDE of your choice.  You will save those files on your computer for future reference. \n",
    "\n",
    "Each question has:\n",
    "\n",
    "- A video of your teacher live coding and explaining the solution\n",
    "\n",
    "- The final code used in the video.\n",
    "\n",
    "Try your best to solve the problems yourself without looking at the solutions.\n",
    "\n",
    "Make sure you test your programs with multiple different inputs to ensure it is functioning properly.\n",
    "\n",
    "Treat these questions like Math homework (Do as many as you feel you need to do to feel comfortable with the material)"
   ]
  },
  {
   "cell_type": "markdown",
   "metadata": {},
   "source": [
    "<br>\n",
    "\n",
    "# 1.2 HW1: ICS4U Practice Question\n",
    "Name Your File:  `ICS4UdiagonalSum.py`\n",
    "\n",
    "Take a randomly generated square 2D List (same # of rows and columns) and find the sum of both diagonals"
   ]
  },
  {
   "cell_type": "code",
   "execution_count": 65,
   "metadata": {},
   "outputs": [
    {
     "name": "stdout",
     "output_type": "stream",
     "text": [
      "[9, 4, 4, 4, 7, 10, 8, 3, 7, 4, 10, 4, 3, 2, 9, 1, 4, 7, 8, 7, 7, 2, 4, 5, 3]\n",
      "Sum of both diagonals: 9\n"
     ]
    }
   ],
   "source": [
    "import random \n",
    "\n",
    "def generated_square(size, min_val=1, max_val=10):\n",
    "    return [[random.randint(min_val, max_val) for _ in range(size) for _ in range(size)]]\n",
    "\n",
    "def diagonals_sum(matrix):\n",
    "    size = len(matrix)\n",
    "    primary_sum = sum(matrix[i][i] for i in range(size))\n",
    "    secondary_sum = sum(matrix[i] [size - i - 1] for i in range(size))\n",
    "    if size % 2 == 1:\n",
    "        middle = size // 2\n",
    "        return primary_sum + secondary_sum - matrix[middle][middle]\n",
    "    \n",
    "    return primary_sum + secondary_sum\n",
    "size = 5 \n",
    "matrix = generated_square(size)\n",
    "\n",
    "# Display the matrix\n",
    "for row in matrix:\n",
    "    print(row)\n",
    "\n",
    "# Compute and print the diagonal sum\n",
    "print(\"Sum of both diagonals:\", diagonals_sum(matrix))\n"
   ]
  },
  {
   "cell_type": "markdown",
   "metadata": {},
   "source": [
    "<br>\n",
    "\n",
    "# 1.2 HW2: ICS4U Practice Question\n",
    "Name Your File:  `ICS4UcountSymbols2D.py`\n",
    "\n",
    "The given code generates a 2D list of a random size, randomly with 4 symbols: *, -, $, @\n",
    "\n",
    "Write some additional code that counts how many of each of the those symbols shows up in the list each time the program is run."
   ]
  },
  {
   "cell_type": "code",
   "execution_count": 66,
   "metadata": {},
   "outputs": [
    {
     "name": "stdout",
     "output_type": "stream",
     "text": [
      "The list: \n",
      "* @ - $ \n",
      "- $ @ $ \n",
      "@ @ $ * \n",
      "$ $ - @ \n"
     ]
    }
   ],
   "source": [
    "import random\n",
    "\n",
    "#The 2D list\n",
    "myData = []\n",
    "counts = [0, 0 ,0 ,0]\n",
    "#Size of the two list\n",
    "numRows = random.randint(3,7)\n",
    "numColumns = random.randint(3,7)\n",
    "\n",
    "#Generating the random List\n",
    "symbols = [\"*\",\"-\",\"$\",\"@\"]\n",
    "for i in range(0,numRows):\n",
    "\n",
    "    row = []\n",
    "    for j in range(0,numColumns):\n",
    "        symbol = random.choice(symbols)\n",
    "        row.append(symbol)\n",
    "        if symbol == \"*\":\n",
    "            counts[0] += 1\n",
    "        if symbol == \"-\":\n",
    "            counts[1] += 1\n",
    "        if symbol == \"$\":\n",
    "            counts[2] += 1\n",
    "        if symbol == \"@\":\n",
    "            counts[3] += 1\n",
    "\n",
    "    myData.append(row)\n",
    "\n",
    "#Print Out a nice output of the generated list\n",
    "print(\"The list: \")\n",
    "for i in range(0,numRows):\n",
    "\n",
    "    for j in range(0,numColumns):\n",
    "        print(myData[i][j], end = \" \")\n",
    "\n",
    "    print()"
   ]
  },
  {
   "cell_type": "markdown",
   "metadata": {},
   "source": [
    "<br>\n",
    "\n",
    "# 1.2 HW3: ICS4U Practice Question\n",
    "Name Your File:  `ICS4Utranspose.py`\n",
    "\n",
    "Write a program that creates a new 2D list where the rows of the first 2D list become the columns of the new 2D list.  This is called the transpose of the 2D List.  Assume the list is a rectangle. (Each row has the same number of columns)"
   ]
  },
  {
   "cell_type": "code",
   "execution_count": 67,
   "metadata": {},
   "outputs": [
    {
     "name": "stdout",
     "output_type": "stream",
     "text": [
      "Original matrix:\n",
      "[4, 1, 2]\n",
      "[3, 7, 6]\n",
      "[5, 7, 7]\n",
      "[5, 9, 1]\n",
      "[6, 9, 2]\n",
      "[6, 2, 6]\n",
      "\n",
      "Transposed matrix:\n",
      "[4, 3, 5, 5, 6, 6]\n",
      "[1, 7, 7, 9, 9, 2]\n",
      "[2, 6, 7, 1, 2, 6]\n"
     ]
    }
   ],
   "source": [
    "import random \n",
    "\n",
    "def generate_matrix(rows, cols, min_val=1, max_val=10):\n",
    "#Generates a 2D list with random integers\n",
    "    return [[random.randint(min_val, max_val) for _ in range(rows)] for _ in range(cols)]\n",
    "\n",
    "def transpose_matrix(matrix):\n",
    "    rows, cols = len(matrix), len(matrix[0])\n",
    "    transposed = [[0] * rows for _ in range(cols)]\n",
    "    for i in range(rows):\n",
    "        for j in range(cols):\n",
    "            transposed[j][i] = matrix[i][j]\n",
    "    return transposed\n",
    "rows, cols = 3, 6\n",
    "matrix = generate_matrix(rows, cols)\n",
    "# Display the original matrix\n",
    "print(\"Original matrix:\")\n",
    "for row in matrix:\n",
    "    print(row)\n",
    "\n",
    "transposed = transpose_matrix(matrix)\n",
    "print(\"\\nTransposed matrix:\")\n",
    "for row in transposed:\n",
    "    print(row)"
   ]
  },
  {
   "cell_type": "markdown",
   "metadata": {},
   "source": [
    "<br>\n",
    "\n",
    "# 1.2 HW4: ICS4U Practice Question\n",
    "Name Your File:  `ICS4UsumOfColumns.py`\n",
    "\n",
    "Write an algorithm that can find the sum of the columns in a 2D List. \n",
    "\n",
    "- Start with writing the code for a rectangular list as that is much easier\n",
    "\n",
    "- Modify the code to handle a list that has rows with different length columns (this one is much harder)"
   ]
  },
  {
   "cell_type": "code",
   "execution_count": 68,
   "metadata": {},
   "outputs": [
    {
     "name": "stdout",
     "output_type": "stream",
     "text": [
      "[9, 11, 13]\n",
      "[14, 21, 14, 17, 18, 13, 2]\n"
     ]
    }
   ],
   "source": [
    "def sum_of_columns(matrix):\n",
    "    if not matrix:\n",
    "        return []\n",
    "    max_columns = max(len(row) for row in matrix)\n",
    "    column_sums = [0] * max_columns\n",
    "    # Iterate through each row and add values to the respective column sums\n",
    "    for row in matrix:\n",
    "        for col_index in range(len(row)):\n",
    "            column_sums[col_index] += row[col_index]\n",
    "    return column_sums\n",
    "rectangularList =   [\n",
    "                        [2,3,4],\n",
    "                        [7,8,9],\n",
    "                    ]\n",
    "\n",
    "nonRectangularList =[\n",
    "                        [2,3,4,5],\n",
    "                        [7,9,5,6,9,3,2],\n",
    "                        [2,5],\n",
    "                        [3,4,5,6,9,10]\n",
    "                    ]\n",
    "print(sum_of_columns(rectangularList))\n",
    "print(sum_of_columns(nonRectangularList))"
   ]
  },
  {
   "cell_type": "markdown",
   "metadata": {},
   "source": [
    "<br>\n",
    "\n",
    "# 1.2 HW5: ICS4U Practice Question\n",
    "Name Your File:  `ICS4UOneTwoSwitch.py`\n",
    "\n",
    "You are going to write a program that takes a 1D List of String Values (Any Length) and convert it to a 2D list with the user entering the number of columns to have in that new list.\n",
    "\n",
    "The total number of entries in the 1D list might not match the space needed in the 2D list.  If this occurs fill in the empty 2D list spaces with empty string values.\n",
    "\n",
    "- For example, if there are 14 entries in the 1D list, and user wants the 2D list to have 3 columns, then it would need 5 rows, but that creates 15 spots spots in the 2D array, and only 14 values from the 1D array.  So that last spot would be filled in with a blank String."
   ]
  },
  {
   "cell_type": "code",
   "execution_count": 69,
   "metadata": {},
   "outputs": [
    {
     "name": "stdout",
     "output_type": "stream",
     "text": [
      "['apple', 'banana', 'cherry', 'date', 'elderberry', 'fig', 'grape', 'honeydew', 'kiwi', 'lemon', 'mango']\n",
      "['nectarine', 'orange', 'papaya', '', '', '', '', '', '', '', '']\n"
     ]
    }
   ],
   "source": [
    "def convert_to_2d_list(data, cols):\n",
    "    #Converts a 1D list of strings into a 2D list with the given number of columns.\n",
    "    rows = -(-len(data) // cols)  # Ceiling division to determine rows needed\n",
    "    result = [[\"\" for _ in range(cols)] for _ in range(rows)]\n",
    "    \n",
    "    for i in range(len(data)):\n",
    "        row = i // cols\n",
    "        col = i % cols\n",
    "        result[row][col] = data[i]\n",
    "    \n",
    "    return result\n",
    "\n",
    "data = [\"apple\", \"banana\", \"cherry\", \"date\", \"elderberry\", \"fig\", \"grape\", \n",
    "        \"honeydew\", \"kiwi\", \"lemon\", \"mango\", \"nectarine\", \"orange\", \"papaya\"]\n",
    "columns = int(input(\"Enter the number of columns: \"))\n",
    "converted_list = convert_to_2d_list(data, columns)\n",
    "#Display the 2D lst\n",
    "for row in converted_list:\n",
    "    print(row)\n",
    "\n"
   ]
  }
 ],
 "metadata": {
  "kernelspec": {
   "display_name": "Python 3",
   "language": "python",
   "name": "python3"
  },
  "language_info": {
   "codemirror_mode": {
    "name": "ipython",
    "version": 3
   },
   "file_extension": ".py",
   "mimetype": "text/x-python",
   "name": "python",
   "nbconvert_exporter": "python",
   "pygments_lexer": "ipython3",
   "version": "3.13.0"
  }
 },
 "nbformat": 4,
 "nbformat_minor": 2
}
