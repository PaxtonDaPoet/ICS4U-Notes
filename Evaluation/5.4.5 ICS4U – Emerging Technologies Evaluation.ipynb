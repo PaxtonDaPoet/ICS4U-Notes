{
 "cells": [
  {
   "cell_type": "markdown",
   "metadata": {},
   "source": [
    "# ICS4U – Python Programming Evaluation 6\n",
    "## Instructions\n",
    "\n",
    "In the final part of ICS3U Grade 12 Computer Science course you are going to do a little bit of research involving artificial intelligence and its applications.  In particular you will be looking at Self Driving Car Technology\n",
    "\n",
    "<details>\n",
    "<summary>Overall Expectations Being Evaluated</summary>\n",
    "\n",
    "D1 – Environmental Stewardship\n",
    "\n",
    "- Outline the impact that self driving cars will have on the environment\n",
    "\n",
    "D2 – Ethical Practices\n",
    "\n",
    "- Demonstrate an understanding of ethical problems facing computer scientists when designing algorithms for self driving cars\n",
    "\n",
    "D3 – Emerging Technologies and Society\n",
    "\n",
    "- Outline the impact that self driving cars will have on Society\n",
    "\n",
    "D4 – Exploring Computer Science\n",
    "\n",
    "- Outline the skills and education required to work on self driving cars\n",
    "\n",
    "- Explore the computer science principles that are used in self driving car technology\n",
    "\n",
    "</details>\n",
    "\n",
    "Make sure you hand in your work when completed"
   ]
  },
  {
   "cell_type": "markdown",
   "metadata": {},
   "source": [
    "<br>\n",
    "\n",
    "# Section A. Self Driving Cars and Society\n",
    "\n",
    "## Question #1 - Society & The Environment\n",
    "Identify 5 – 10 ways that you think self driving car technology will affect society.  Make sure to include positive impacts, negative impacts, and specifically environmental impacts.  (Each point you make should be accompanied by some type of explanation / reasoning)\n",
    "\n",
    "## Question #2 - Privacy & Data Collection\n",
    "For self-driving cars to run efficiently, a massive amount of data must be collected through the car’s sensors. While driving, autonomous cars continuously store data about their surroundings that allows them to learn and get smarter. This raises many security issues as self-driving cars hold large amounts of data including where the driver and passenger have been, driver communication when mobile phones are hooked, and conversations in the vehicle between drivers and passengers. \n",
    "\n",
    "- Is this something you feel would be a concern to you personally? Why or Why Not?\n",
    "\n",
    "If you were in an accident should the courts allow that data to be used for insurance purposes, civil liability trials, criminal investigations."
   ]
  },
  {
   "cell_type": "code",
   "execution_count": null,
   "metadata": {
    "vscode": {
     "languageId": "plaintext"
    }
   },
   "outputs": [],
   "source": [
    "Question #1 - Society & The Environment\n",
    "\n",
    "1. Traffic Accidents: Reduced accidents due to automation and fewer human errors.\n",
    "2. Accessibility: Provides independence for elderly and disabled individuals.\n",
    "3. Job Loss: Displacement of driving jobs in trucking and transportation.\n",
    "4. Environmental Benefits: Improved efficiency, less congestion, and reduced emissions (especially for electric vehicles).\n",
    "5. Urban Planning: Potential for reduced parking needs and more efficient land use.\n",
    "6. Productivity: Passengers can work or relax during commutes.\n",
    "7. Environmental Impact: Production and disposal of car tech may cause environmental harm.\n",
    "8. Overconsumption: Increased car ownership may lead to more resource use.\n",
    "9. Insurance: New models may arise due to fewer accidents and unclear liability.\n",
    "10. Public Transport: Could either complement or reduce public transit usage.\n",
    "\n",
    "---\n",
    "\n",
    "Question #2 - Privacy & Data Collection\n",
    "\n",
    "1. Personal Concerns: Yes, constant data collection feels invasive and risks privacy.\n",
    "2. Legal Use: Data should be used in legal cases but with strict privacy protections."
   ]
  },
  {
   "cell_type": "markdown",
   "metadata": {},
   "source": [
    "<br>\n",
    "\n",
    "# Section B. Technology Used in Self Driving Cars\n",
    "## Question #1 - How Does a Self Driving Car \"see\"?\n",
    "Do some research and answer the following questions.  State a few sources.\n",
    "\n",
    "- Identify 3 – 4 ways that computer vision can be used in self driving cars.\n",
    "\n",
    "- What is LiDAR and how can it be used in self driving cars?\n",
    "\n",
    "- Does Tesla pefer LiDAR or Computer Vision for its self driving cars? Why?\n",
    "\n",
    "## Question #2\n",
    "\n",
    "Identify some different types of machine learning algorithms that a car company might need to use when designing a self driving car\n",
    "\n",
    "## Question #3\n",
    "\n",
    "Would Generative AI have any use in the design and function of a self driving car?\n"
   ]
  },
  {
   "cell_type": "code",
   "execution_count": null,
   "metadata": {
    "vscode": {
     "languageId": "plaintext"
    }
   },
   "outputs": [],
   "source": [
    "Question #1: How Does a Self-Driving Car \"See\"?\n",
    "\n",
    "Computer Vision Applications in Self-Driving Cars:\n",
    "\n",
    "1. Object Detection and Recognition: Identifying pedestrians, vehicles, traffic signs, and other obstacles to navigate safely.\n",
    "2. Lane Detection: Recognizing lane markings to maintain proper lane positioning.\n",
    "3. Traffic Sign Recognition: Detecting and interpreting traffic signs to comply with traffic laws.\n",
    "4. Depth Estimation: Determining the distance to objects to assess potential collision risks.\n",
    "\n",
    "LiDAR and Its Use in Self-Driving Cars: LiDAR (Light Detection and Ranging) is a sensor technology that emits laser pulses and measures the time it takes for them to return after hitting an object. This data creates precise 3D maps of the environment, enabling self-driving cars to detect and avoid obstacles, even in low-light or poor-visibility conditions.\n",
    "\n",
    "Tesla's Preference for Computer Vision Over LiDAR: Tesla favors a vision-based approach, relying on cameras and neural networks to interpret the environment, arguing that human drivers navigate using vision alone. This method is cost-effective and aligns with Tesla's strategy to use real-world data from its fleet to train its AI systems. \n",
    "\n",
    "\n",
    "Question #2: Machine Learning Algorithms in Self-Driving Car Design\n",
    "\n",
    "Car manufacturers employ various machine learning algorithms, including:\n",
    "- Convolutional Neural Networks (CNNs): For image and video analysis, enabling object detection and recognition.\n",
    "- Reinforcement Learning: Allowing vehicles to learn optimal driving strategies through trial and error.\n",
    "- Recurrent Neural Networks (RNNs): Processing sequential data, such as predicting the behavior of other road users.\n",
    "- Support Vector Machines (SVMs): Classifying data for tasks like lane detection and traffic sign recognition.\n",
    "\n",
    "Question #3: Use of Generative AI in Self-Driving Cars\n",
    "\n",
    "Generative AI can be utilized in self-driving cars for:\n",
    "\n",
    "- Data Augmentation: Creating synthetic data to train models, especially for rare or dangerous driving scenarios.\n",
    "- Simulation: Generating realistic driving environments for testing and validation purposes.\n",
    "- Behavior Prediction: Modeling and predicting the actions of other road users to enhance decision-making."
   ]
  },
  {
   "cell_type": "markdown",
   "metadata": {},
   "source": [
    "<br>\n",
    "\n",
    "# Section C. Skills and Education\n",
    "## Question #1\n",
    "Make a list of different school subjects you might need to know about if you wanted to work in the field of self driving cars.  \n",
    "\n",
    "- What skills do you need?\n",
    "\n",
    "- What level of higher education is recommended?"
   ]
  },
  {
   "cell_type": "code",
   "execution_count": null,
   "metadata": {
    "vscode": {
     "languageId": "plaintext"
    }
   },
   "outputs": [],
   "source": [
    "Question #1: Skills and Education for Working in the Field of Self-Driving Cars**\n",
    "\n",
    "- School Subjects to Know:\n",
    "  1. Computer Science: Programming, algorithms, and AI, essential for developing the software that powers self-driving cars.\n",
    "  2. Mathematics: Linear algebra, calculus, probability, and statistics, critical for machine learning and computer vision algorithms.\n",
    "  3. Physics: Understanding mechanics, kinematics, and optics to model the movement of the vehicle and how sensors work.\n",
    "  4. Engineering (Mechanical, Electrical, or Robotics): Designing, testing, and refining vehicle hardware like sensors, actuators, and embedded systems.\n",
    "  5. Data Science: Analyzing data from vehicles and sensors to improve performance and safety.\n",
    "  6. Artificial Intelligence & Machine Learning: For developing self-learning algorithms and neural networks.\n",
    "  7. Control Systems: To design systems that allow the car to control its movement autonomously.\n",
    "\n",
    "- Skills You Need:\n",
    "  1. Programming Languages: Proficiency in languages like Python, C++, and MATLAB for developing and testing algorithms.\n",
    "  2. Machine Learning & Deep Learning: Knowledge in training neural networks, supervised learning, unsupervised learning, and reinforcement learning.\n",
    "  3. Sensor Fusion: Combining data from multiple sensors (like LiDAR, cameras, radar) to create a coherent understanding of the environment.\n",
    "  4. Problem-Solving & Critical Thinking: Addressing complex real-world challenges and ensuring safe autonomous navigation.\n",
    "  5. Software Development & Testing: Building robust software systems and testing them in simulation and real-world conditions.\n",
    "\n",
    "- Level of Higher Education Recommended:\n",
    "  A Bachelor's degree in Computer Science, Electrical Engineering, Robotics, or a related field is typically required. A Master's or Ph.D. is often recommended for specialized research or advanced roles, especially in AI, machine learning, or sensor technologies. Higher education allows for a deeper understanding of complex algorithms and systems."
   ]
  },
  {
   "cell_type": "markdown",
   "metadata": {},
   "source": [
    "<br>\n",
    "\n",
    "# Section D. Ethics\n",
    "When a driver slams on the brakes to avoid hitting a pedestrian crossing the road illegally, they are making a moral decision that shifts risk from the pedestrian to the people in the car.  Self driving cars will have to make such ethical judgements on their own.  Who gets to decide on the moral code that vehicles should follow? Should there be some standard.  Lots of unanswered questions.\n",
    "\n",
    "https://www.youtube.com/watch?v=jPo6bby-Fcg\n",
    "\n",
    "Watch the video and answer the question below\n",
    "\n",
    "- Who do you hold responsible for accidents in a self driving car? The owner of the vehicle? The “Driver” of the car at the time of the accident?  The car manufacturer? The engineer who designed the software?\n",
    "\n",
    "- Justify your answer."
   ]
  },
  {
   "cell_type": "code",
   "execution_count": null,
   "metadata": {
    "vscode": {
     "languageId": "plaintext"
    }
   },
   "outputs": [],
   "source": [
    "Responsibility for accidents in self-driving cars could fall on multiple parties:\n",
    "\n",
    "- Owner: If the car is in a semi-autonomous mode and the owner is responsible for maintaining it.\n",
    "- Driver: If the human driver intervenes and fails to act correctly.\n",
    "- Car Manufacturer: If the accident is due to a design flaw or malfunction.\n",
    "- Engineer: If the software’s decision-making or algorithms caused the accident.\n",
    "\n",
    "Responsibility depends on the level of autonomy and control at the time of the accident. Clear regulations are needed."
   ]
  }
 ],
 "metadata": {
  "language_info": {
   "name": "python"
  }
 },
 "nbformat": 4,
 "nbformat_minor": 2
}
