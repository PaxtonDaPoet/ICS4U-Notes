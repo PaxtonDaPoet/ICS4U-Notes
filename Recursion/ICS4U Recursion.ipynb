{
 "cells": [
  {
   "cell_type": "markdown",
   "metadata": {},
   "source": [
    "# ICS4U Recursion\n",
    "\n",
    "## What is Recursion?\n",
    "You are used to programming and solving problems using control structures such as if-else statements (selection structures) and iterative loops (repetition structures)\n",
    "\n",
    "Another control mechanism that can be used in problem solving and programming is recursion\n",
    "\n",
    "The basic idea behind recursion is this:\n",
    "\n",
    "- If the problem is considered easy solvable, solve it immediately\n",
    "- If the problem can’t be solved immediately, divide it into easier problems, then solve the easier problems\n",
    "\n",
    "Generally when a problem can be defined in terms of itself then it can be solved recursively"
   ]
  },
  {
   "cell_type": "markdown",
   "metadata": {},
   "source": [
    "## Triangle Numbers\n",
    "The total number of pins in a triangular arrangement is called a triangle number.\n",
    "\n",
    "You can expand that pattern by keep adding rows with more pins:\n",
    "\n",
    "    Row 1 -> 1 Pin\n",
    "    Row 2 -> 3 Pins\n",
    "    Row 3 -> 6 Pins\n",
    "    Row 4 -> 10 Pins\n",
    "    Row 5 -> 15 Pins\n",
    "    Row 6 -> 21 Pins\n",
    "    Row 7  -> 28 Pins\n",
    "\n",
    "There is a pattern here:\n",
    "\n",
    "    Total # pins in row 1 = 1\n",
    "    Total # pins in row 2 = 2  + Total # of pins in row 1\n",
    "    Total # pins in row 3 = 3 + Total # of pins in row 2\n",
    "    Total # of pins in row 4 = 4 + Total # of pins in row 3\n",
    "    Total # of pins in row 5 = 5 + Total # of pins in row 4\n",
    "\n",
    "Mathematically you can write out the # of pins in the Nth row as:\n",
    "\n",
    "    Triangle (N) = N + Triangle (N – 1)\n",
    "\n",
    "Examples:\n",
    "\n",
    "```\n",
    "Triangle(3)\n",
    "    = 3 + Triangle(2)\n",
    "    = 3 + (2+Triangle(1))\n",
    "    = 3 + (2 + (1))\n",
    "    = 6\n",
    "```\n",
    "\n",
    "```\n",
    "Triangle(7)\n",
    "    = 7 + Triangle(6)\n",
    "    = 7 + (6 + Triangle(5))\n",
    "    = 7 + (6 + (5 + Triangle(4)))\n",
    "    = 7 + (6 + (5 + (4 + Triangle(3))))\n",
    "    = 7 + (6 + (5 + (4 + (3 + Triangle(2)))))\n",
    "    = 7 + (6 + (5 + (4 + (3 + (2 + Triangle(1))))))\n",
    "    = 7 + (6 + (5 + (4 + (3 + (2 + 1)))))\n",
    "    = 28\n",
    "```\n",
    "\n",
    "Because you have defined the Nth Triangle number in terms of itself, this is a perfect problem to solve recursively.\n",
    "\n",
    "Notice that in both examples above the sequence of additions ended with Triangle(1) = 1. This is called *the base case* for the problem\n",
    "\n",
    "    - A base case is a problem that can be easily solved immediately\n",
    "    - It typically tells you when the recursion should stop"
   ]
  },
  {
   "cell_type": "code",
   "execution_count": 1,
   "metadata": {},
   "outputs": [],
   "source": [
    "def triangle(N):\n",
    "\n",
    "    #Base Case\n",
    "    if N == 1:\n",
    "        return 1\n",
    "\n",
    "    #Recursive Call\n",
    "    else:\n",
    "        return N + triangle(N-1)"
   ]
  },
  {
   "cell_type": "code",
   "execution_count": 2,
   "metadata": {},
   "outputs": [
    {
     "data": {
      "text/plain": [
       "55"
      ]
     },
     "execution_count": 2,
     "metadata": {},
     "output_type": "execute_result"
    }
   ],
   "source": [
    "triangle(10)"
   ]
  },
  {
   "cell_type": "markdown",
   "metadata": {},
   "source": [
    "## Fibonacci Sequence\n",
    "You have probably studied and are familiar with the Fibonacci Sequence of numbers\n",
    "\n",
    "    1,1,2,3,5,8,13,,21,34,55,….\n",
    "\n",
    "Each value in the sequence is found by adding the previous two values in the sequence.\n",
    "\n",
    "Mathematically we can define this as\n",
    "\n",
    "    Fib (N) = Fib(N-1) + Fib(N-2) for N >= 3\n",
    "\n",
    "The base cases for this recursion are Fib(1) = 1 and Fib(2) = 1\n",
    "\n",
    "Translating that into a python function would look as follows"
   ]
  },
  {
   "cell_type": "code",
   "execution_count": 3,
   "metadata": {},
   "outputs": [],
   "source": [
    "def fib(N):\n",
    "\n",
    "    # Base Condition\n",
    "    if N == 1 or N == 2:\n",
    "        return 1\n",
    "\n",
    "    # Recursion Call\n",
    "    else:\n",
    "        return fib(N-1) + fib(N-2)"
   ]
  },
  {
   "cell_type": "markdown",
   "metadata": {},
   "source": [
    "## Iteration vs Recursion\n",
    "You might be wondering, why recursion is necessary at all, when the two programs above could have easily been written with a loop.\n",
    "\n",
    "# Iterative Triangle Number\n",
    "If you look at the pattern that occurs for the Nth triangle number, you will see that its value is just the sum of the numbers from 1 to 10\n",
    "\n",
    "    Triangle(3) = 6 = 1 + 2 + 3\n",
    "    Triangle(7) = 28 = 1 + 2 + 3 + 4 + 5 + 6 + 7\n",
    "\n",
    "That is easily accomplished using a simple loop"
   ]
  },
  {
   "cell_type": "code",
   "execution_count": 4,
   "metadata": {},
   "outputs": [],
   "source": [
    "def triangle(N):\n",
    "    sum = 0\n",
    "    for i in range(1,N):\n",
    "        sum = sum + i\n",
    "    return sum"
   ]
  },
  {
   "cell_type": "markdown",
   "metadata": {},
   "source": [
    "## Iterative Fibonacci Sequence\n",
    "This one might be a little more complicated to understand from a looping perspective, but just need to keep track of the previous two values in some variables."
   ]
  },
  {
   "cell_type": "code",
   "execution_count": 5,
   "metadata": {},
   "outputs": [],
   "source": [
    "def fib(N):\n",
    "\n",
    "    f1 = 1\n",
    "    f2 = 1\n",
    "    for i in range(1,N-1):\n",
    "        nextValue = f1 + f2\n",
    "        f1 = f2\n",
    "        f2 = nextValue\n",
    "\n",
    "    return f2"
   ]
  },
  {
   "cell_type": "markdown",
   "metadata": {},
   "source": [
    "Well, the answer to the above question of recursion vs iteration, isn’t exactly straight forward."
   ]
  },
  {
   "cell_type": "markdown",
   "metadata": {},
   "source": [
    "## Generally Speaking\n",
    "\n",
    "- Code size is smaller and sometimes logically easier to understand using recursion\n",
    "\n",
    "- Iterative solutions are usually faster (It takes more time to call functions then to execute a loop)\n",
    "\n",
    "- Recursion can take up more memory and is subject to Stack Overflow Errors\n",
    "\n",
    "- Some problems are just naturally recursive in nature\n",
    "    * Towers of Hanoi\n",
    "    * Maze Solving\n",
    "    * Sorting Methods"
   ]
  },
  {
   "cell_type": "markdown",
   "metadata": {},
   "source": [
    "## Comparing Execution Times - Triangle Numbers\n",
    "Run the Following Code to compare the execution times for the iterative vs the recursive Triangle Number Algorithms\n",
    "\n",
    "    Try a small number < 10\n",
    "    Try a number between 10 and 100\n",
    "    Try a number over 1000000"
   ]
  },
  {
   "cell_type": "code",
   "execution_count": 7,
   "metadata": {},
   "outputs": [
    {
     "name": "stdout",
     "output_type": "stream",
     "text": [
      "\n",
      "Recursive:\n",
      "Triangle( 2 ) =  3\n",
      "Solution took 2250 nanoseconds\n",
      "\n",
      "Iterative:\n",
      "Triangle( 2 ) =  3\n",
      "Solution took 2959 nanoseconds\n"
     ]
    }
   ],
   "source": [
    "import timeit\n",
    "\n",
    "def triangleRecursive(N):\n",
    "\n",
    "    if N == 1:\n",
    "        return 1\n",
    "    else:\n",
    "        return N + triangleRecursive(N-1)\n",
    "\n",
    "def triangleIterative(N):\n",
    "    sum = 0\n",
    "    for i in range(1,N+1):\n",
    "        sum = sum + i\n",
    "    return sum\n",
    "\n",
    "def main():\n",
    "    num = int(input(\"Calculate Triangle Number for N = \"))\n",
    "\n",
    "    print(\"\\nRecursive:\")\n",
    "    start = timeit.default_timer()\n",
    "    tNumber = triangleRecursive(num)\n",
    "    end = timeit.default_timer()\n",
    "    elapsedNS = round((end - start)*10**9)\n",
    "    print(\"Triangle(\",num,\") = \", tNumber)\n",
    "    print(\"Solution took\",elapsedNS,\"nanoseconds\\n\")\n",
    "\n",
    "    print(\"Iterative:\")\n",
    "    start = timeit.default_timer()\n",
    "    tNumber = triangleIterative(num)\n",
    "    end = timeit.default_timer()\n",
    "    elapsedNS = round((end - start) * 10 ** 9)\n",
    "    print(\"Triangle(\", num, \") = \", tNumber)\n",
    "    print(\"Solution took\",elapsedNS,\"nanoseconds\")\n",
    "\n",
    "main()"
   ]
  },
  {
   "cell_type": "markdown",
   "metadata": {},
   "source": [
    "## Comparing Execution Times - Fibonacci Numbers\n",
    "Run the Following Code to compare the execution times for the iterative vs the recursive Fibonacci Number Algorithms\n",
    "\n",
    "    Try a small number < 10\n",
    "    Try 35\n",
    "    Try 40 -> Be patient, very very very patient…..\n",
    "    Try a number over 1000000"
   ]
  },
  {
   "cell_type": "code",
   "execution_count": 8,
   "metadata": {},
   "outputs": [
    {
     "name": "stdout",
     "output_type": "stream",
     "text": [
      "\n",
      "Recursive:\n",
      "Fibonacci( 2 ) =  1\n",
      "Solution took 1458 nanoseconds\n",
      "\n",
      "Iterative:\n",
      "Fibonacci( 2 ) =  1\n",
      "Solution took 2875 nanoseconds\n"
     ]
    }
   ],
   "source": [
    "import timeit\n",
    "\n",
    "def fibRecursive(N):\n",
    "\n",
    "    if N == 1 or N == 2:\n",
    "        return 1\n",
    "    else:\n",
    "        return fibRecursive(N-1) + fibRecursive(N-2)\n",
    "\n",
    "def fibIterative(N):\n",
    "\n",
    "    f1 = 1\n",
    "    f2 = 1\n",
    "    for i in range(1,N-1):\n",
    "        nextValue = f1 + f2\n",
    "        f1 = f2\n",
    "        f2 = nextValue\n",
    "\n",
    "    return f2\n",
    "\n",
    "def main():\n",
    "    num = int(input(\"Calculate the Fibonacci Number for N = \"))\n",
    "\n",
    "    print(\"\\nRecursive:\")\n",
    "    start = timeit.default_timer()\n",
    "    fNumber = fibRecursive(num)\n",
    "    end = timeit.default_timer()\n",
    "    elapsedNS = round((end - start)*10**9)\n",
    "    print(\"Fibonacci(\",num,\") = \", fNumber)\n",
    "    print(\"Solution took\",elapsedNS,\"nanoseconds\\n\")\n",
    "\n",
    "    print(\"Iterative:\")\n",
    "    start = timeit.default_timer()\n",
    "    fNumber = fibIterative(num)\n",
    "    end = timeit.default_timer()\n",
    "    elapsedNS = round((end - start) * 10 ** 9)\n",
    "    print(\"Fibonacci(\", num, \") = \", fNumber)\n",
    "    print(\"Solution took\",elapsedNS,\"nanoseconds\")\n",
    "\n",
    "main()"
   ]
  },
  {
   "cell_type": "markdown",
   "metadata": {},
   "source": [
    "## Python Stack and Overflow Errors\n",
    "You will learn in the next unit about a data structure called a Stack, but when python makes function calls, that structure is used to store the set of new local variables and parameters each time the function is called.  There is only so much space that is available on that stack, and as we have seen, the amount of function calls that a recursive solution can make can become very high.\n",
    "\n",
    "In the previous learning activity you probably noticed that you were getting a Recursion Depth Exceeded error.  This is a stack overflow error where there are too many functions calls and the stack wouldn’t have enough space to handle that many."
   ]
  },
  {
   "cell_type": "markdown",
   "metadata": {},
   "source": [
    "## Iterative vs Recursive GCD\n",
    "The greatest common divisor (GCD) algorithm is another common algorithm that can be written both recursively and iteratively.  It finds the largest factor that exists between 2 numbers (a,b)\n",
    "\n",
    "You can see the simplicity of the recursive code vs the iterative version"
   ]
  },
  {
   "cell_type": "code",
   "execution_count": null,
   "metadata": {},
   "outputs": [],
   "source": [
    "def gcd(a,b):\n",
    "    if a == 0:\n",
    "        return b\n",
    "    else:\n",
    "        return gcd(b % a , a)"
   ]
  },
  {
   "cell_type": "code",
   "execution_count": null,
   "metadata": {},
   "outputs": [],
   "source": [
    "def gcd(a, b):\n",
    "    # Largest divisor 1 -> if no other ones found\n",
    "    g = 1\n",
    "\n",
    "    # start search for divisors at the smallest number\n",
    "    if a > b:\n",
    "        start = b\n",
    "    else:\n",
    "        start = a\n",
    "\n",
    "    # Count backwards to find the largest divisor\n",
    "    for i in range(start, 1, -1):\n",
    "\n",
    "        # Found largest divisor so stop\n",
    "        if a % i == 0 and b % i == 0:\n",
    "            g = i\n",
    "            break\n",
    "\n",
    "    return g"
   ]
  },
  {
   "cell_type": "markdown",
   "metadata": {},
   "source": [
    "## Counting\n",
    "Here is an example of a recursive function that counts up by 3 for N number of times."
   ]
  },
  {
   "cell_type": "code",
   "execution_count": 9,
   "metadata": {},
   "outputs": [
    {
     "name": "stdout",
     "output_type": "stream",
     "text": [
      "15\n",
      "60\n"
     ]
    }
   ],
   "source": [
    "def count3(N):\n",
    "\n",
    "    if N == 0:\n",
    "        return 0\n",
    "    else:\n",
    "        return 3 + count3(N-1)\n",
    "\n",
    "def main():\n",
    "\n",
    "    #Counts up by 3 5 times, so prints 15\n",
    "    print(count3(5))\n",
    "\n",
    "    #Counts up by 3 20 times, so prints 60\n",
    "    print(count3(20))\n",
    "\n",
    "main()"
   ]
  },
  {
   "cell_type": "markdown",
   "metadata": {},
   "source": [
    "The recursion is acting like a loop in this case, executing N number of times and adding 3 each time the recursive function is called"
   ]
  },
  {
   "cell_type": "markdown",
   "metadata": {},
   "source": [
    "# ICS4U Coding Questions\n",
    "Try to code the following questions using an IDE of your choice.  You will save those files on your computer for future reference. \n",
    "\n",
    "Each question has:\n",
    "\n",
    "- A video of your teacher live coding and explaining the solution\n",
    "\n",
    "- The final code used in the video.\n",
    "\n",
    "Try your best to solve the problems yourself without looking at the solutions.\n",
    "\n",
    "Make sure you test your programs with multiple different inputs to ensure it is functioning properly.\n",
    "\n",
    "Treat these questions like Math homework (Do as many as you feel you need to do to feel comfortable with the material)"
   ]
  },
  {
   "cell_type": "markdown",
   "metadata": {},
   "source": [
    "# ICS4U Practice Question\n",
    "\n",
    "Name Your File:  “ICS4Ufactorial.py” \n",
    "\n",
    "Write a recursive solution to calculating a factorial.  The factorial of a number N is the product of all the numbers from 1 to N.  Mathematically a factorial is written as N!\n",
    "\n",
    "```\n",
    "5! = 5 x 4 x 3 x 2 x 1 \n",
    "6! = 6 x 5 x 4 x 3 x 2 x 1\n",
    "7! = 7 x 6 x 5 x 4 x 3 x 2 x 1\n",
    "```\n",
    "\n",
    "This definition is recursive because the Nth factorial is N multiplied by the N-1 factorial\n",
    "\n",
    "- Factorial(N) = N * Factorial(N-1)\n",
    "- By definition in math the factorial of zero is 1 (That is the base case)"
   ]
  },
  {
   "cell_type": "code",
   "execution_count": null,
   "metadata": {},
   "outputs": [],
   "source": [
    "def factorial(N):\n",
    "    # TODO: Implement your Codes here:\n",
    "    pass"
   ]
  },
  {
   "cell_type": "markdown",
   "metadata": {},
   "source": [
    "# ICS4U Practice Question\n",
    "\n",
    "Name Your File:  “ICS4Usquared.py” \n",
    "\n",
    "In this question you are going to write a recursive function for implementing the Square of a Number 𝑁2.\n",
    "\n",
    "An interesting way to compute the square of a number is to use the fact that\n",
    "\n",
    "```\n",
    "(N-1)2 = N2 – 2N + 1\n",
    "```\n",
    "\n",
    "which would mean that\n",
    "\n",
    "```\n",
    "N2 = (N-1)2 + 2N – 1\n",
    "```"
   ]
  },
  {
   "cell_type": "code",
   "execution_count": null,
   "metadata": {},
   "outputs": [],
   "source": [
    "def squared(N):\n",
    "    # TODO: Implement your Codes here:\n",
    "    pass"
   ]
  },
  {
   "cell_type": "markdown",
   "metadata": {},
   "source": [
    "# ICS4U Practice Question\n",
    "\n",
    "Name Your File:  “ICS4UsumOfList.py” \n",
    "\n",
    "It is possible to write an algorithm that finds the sum of the values inside a list using recursion as well\n",
    "\n",
    "```\n",
    "sumList(theList,index) = theList[index] + sumList(theList, index + 1)\n",
    "```\n",
    "\n",
    "The base case is when the index is equal the length of theList and the recursive function should return 0\n",
    "\n",
    "Write the function to implement this sum recursively\n",
    "\n",
    "- test it out with different lists\n",
    "\n",
    "Draw the activation diagram showing the recursive calls for the following list\n",
    "\n",
    "```\n",
    "[3,7,12,15]\n",
    "```"
   ]
  },
  {
   "cell_type": "code",
   "execution_count": null,
   "metadata": {},
   "outputs": [],
   "source": [
    "def sumList(theList,index):\n",
    "    # TODO: Implement your Codes here:\n",
    "    pass\n",
    "\n",
    "\n",
    "def main():\n",
    "\n",
    "    x = [1,2,3,4,5]\n",
    "    print(sumList(x,0))\n",
    "\n",
    "    x = [4,3,7,12,17,20,22]\n",
    "    print(sumList(x, 0))\n",
    "\n",
    "\n",
    "main()"
   ]
  }
 ],
 "metadata": {
  "kernelspec": {
   "display_name": "Python 3",
   "language": "python",
   "name": "python3"
  },
  "language_info": {
   "codemirror_mode": {
    "name": "ipython",
    "version": 3
   },
   "file_extension": ".py",
   "mimetype": "text/x-python",
   "name": "python",
   "nbconvert_exporter": "python",
   "pygments_lexer": "ipython3",
   "version": "3.12.5"
  }
 },
 "nbformat": 4,
 "nbformat_minor": 2
}
