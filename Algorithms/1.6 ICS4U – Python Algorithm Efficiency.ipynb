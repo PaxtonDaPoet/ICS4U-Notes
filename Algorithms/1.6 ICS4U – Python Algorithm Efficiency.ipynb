{
 "cells": [
  {
   "cell_type": "markdown",
   "metadata": {},
   "source": [
    "# ICS4U – Python Algorithm Efficiency\n",
    "## ICS4U Learning Goals\n",
    "In this ICS4U Grade 12 Computer Science lesson you will be learning how to\n",
    "\n",
    "- Differentiate between Time and Space Complexity for an algorithm\n",
    "\n",
    "- Write Big O notation for search algorithms\n",
    "\n",
    "- Write Big O notation for sorting algorithms"
   ]
  }
 ],
 "metadata": {
  "language_info": {
   "name": "python"
  }
 },
 "nbformat": 4,
 "nbformat_minor": 2
}
