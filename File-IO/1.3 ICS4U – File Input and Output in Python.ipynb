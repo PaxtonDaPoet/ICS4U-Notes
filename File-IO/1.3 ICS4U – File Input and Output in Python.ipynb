{
 "cells": [
  {
   "cell_type": "markdown",
   "metadata": {},
   "source": [
    "# ICS4U – File Input and Output in Python\n",
    "## ICS4U Learning Goals\n",
    "In this ICS4U Grade 12 Computer Science lesson you will be learning how to\n",
    "\n",
    "- Read Data from a File\n",
    "\n",
    "- Write Data to a File"
   ]
  }
 ],
 "metadata": {
  "language_info": {
   "name": "python"
  }
 },
 "nbformat": 4,
 "nbformat_minor": 2
}
